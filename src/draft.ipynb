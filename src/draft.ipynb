{
 "cells": [
  {
   "cell_type": "code",
   "execution_count": 167,
   "metadata": {},
   "outputs": [],
   "source": [
    "item = {\n",
    "  \"purpose\": \"sql query interpretation\",\n",
    "  \"system-prompt\": \"You are a SQL developer tasked with deriving insights from a database using SQL.\\n- Don't create any tables or views or functions.\\n- Use the provided schema to answer the question.\\n- Don't include schema in response.\",\n",
    "  \"steps\": [\n",
    "    {\n",
    "      \"name\": \"Outline Creation\",\n",
    "      \"output\": \"<OUTLINE>\",\n",
    "      \"instruction\": \"Craft an outline to answer: <QUESTION>.\\nContext: <CONTEXT>.\\nStart by giving the list of tables and the columns necessary to answer the question then provide logical steps to build the query, don't use any SQL.\",\n",
    "      \"inputs\": [\"<QUESTION>\", \"<CONTEXT>\"]\n",
    "    },\n",
    "    {\n",
    "      \"name\": \"Revise Outline\",\n",
    "      \"system-prompt\": \"You are a helpful assistant. Analyse the outline provided and revise it if necessary. Spot any inconsistencies and correct them. Don't give the answer in SQL.\",\n",
    "      \"output\": \"<REVISED_OUTLINE>\",\n",
    "      \"instruction\": \"Analyse the following outline and correct it if necessary:\\n<OUTLINE>\\nQuestion: <QUESTION>.\\nContext: \\n<CONTEXT>.\\nDon't use any SQL.\",\n",
    "      \"inputs\": [\"<QUESTION>\", \"<CONTEXT>\", \"<OUTLINE>\"]\n",
    "    },\n",
    "    {\n",
    "      \"name\": \"Generate SQL\",\n",
    "      \"output\": \"<SQL_SNIPPET>\",\n",
    "      \"instruction\": \"Using the outline, create a SQL query.\\nOutline: <REVISED_OUTLINE>\\nContext: <CONTEXT>\\nQuestion to answer: <QUESTION>\\nTarget Database: <DATABASE>\",\n",
    "      \"inputs\": [\"<REVISED_OUTLINE>\", \"<CONTEXT>\", \"<DATABASE>\", \"<QUESTION>\"]\n",
    "    },\n",
    "    {\n",
    "      \"name\": \"SQL Verification\",\n",
    "      \"output\": \"<VERIFIED_SQL>\",\n",
    "      \"instruction\": \"Verify the SQL query for correctness and relevance.\\nEnsure all referenced tables and columns exist.\\nQuestion: <QUESTION>\\nContext: <CONTEXT>\\nSQL Query: <SQL_SNIPPET>\\nGive the answer in one 1 sql code snippet for <DATABASE> at the end.\",\n",
    "      \"inputs\": [\"<SQL_SNIPPET>\", \"<QUESTION>\", \"<CONTEXT>\", \"<DATABASE>\"]\n",
    "    }\n",
    "  ],\n",
    "  \"final-output\": \"<VERIFIED_SQL>\"\n",
    "}\n"
   ]
  },
  {
   "cell_type": "code",
   "execution_count": 168,
   "metadata": {},
   "outputs": [],
   "source": [
    "# Open the text file in read mode\n",
    "with open('./init_db.sql', 'r') as file:\n",
    "    # Read the content of the file into a variable\n",
    "    context = file.read()\n",
    "question=\"Give me the total revenue made by provider.\"\n",
    "\n",
    "inputs = {\n",
    "    \"<CONTEXT>\": context,\n",
    "    \"<QUESTION>\": question,\n",
    "    \"<DATABASE>\": \"Postgres\"\n",
    "}"
   ]
  },
  {
   "cell_type": "code",
   "execution_count": 169,
   "metadata": {},
   "outputs": [],
   "source": [
    "from llm_interface import LLMClient\n",
    "\n",
    "client = LLMClient(\"./config.yaml\")"
   ]
  },
  {
   "cell_type": "code",
   "execution_count": 175,
   "metadata": {},
   "outputs": [
    {
     "name": "stdout",
     "output_type": "stream",
     "text": [
      "Outline Creation ...\n",
      "Processing <QUESTION>...\n",
      "Processing <CONTEXT>...\n",
      "Revise Outline ...\n",
      "Processing <QUESTION>...\n",
      "Processing <CONTEXT>...\n",
      "Processing <OUTLINE>...\n",
      "Generate SQL ...\n",
      "Processing <REVISED_OUTLINE>...\n",
      "Processing <CONTEXT>...\n",
      "Processing <DATABASE>...\n",
      "Processing <QUESTION>...\n",
      "SQL Verification ...\n",
      "Processing <SQL_SNIPPET>...\n",
      "Processing <QUESTION>...\n",
      "Processing <CONTEXT>...\n",
      "Processing <DATABASE>...\n"
     ]
    }
   ],
   "source": [
    "input_collection = inputs\n",
    "for step in item['steps']:\n",
    "    print(step['name'], \"...\")\n",
    "    system_prompt = step[\"system-prompt\"] if \"system-prompt\" in step.keys() else item['system-prompt']\n",
    "    prompt = step[\"instruction\"]\n",
    "    for input_needed in step['inputs']:\n",
    "        if input_needed not in input_collection.keys():\n",
    "            raise AttributeError(f\"{input_needed} input is not available.\")\n",
    "        print(f\"Processing {input_needed}...\")\n",
    "        prompt = prompt.replace(input_needed, input_collection[input_needed])\n",
    "    response = client.ask_question(prompt=[\n",
    "            {\"role\": \"system\", \"content\": system_prompt},\n",
    "            {\"role\": \"user\", \"content\": prompt}\n",
    "          ])\n",
    "    input_collection[step['output']] = response"
   ]
  },
  {
   "cell_type": "code",
   "execution_count": 176,
   "metadata": {},
   "outputs": [
    {
     "name": "stdout",
     "output_type": "stream",
     "text": [
      " Tables and columns necessary:\n",
      "\n",
      "1. Orders: OrderID, TotalAmount, CustomerID\n",
      "2. OrderDetails: OrderID, ProductID, Quantity, UnitPrice\n",
      "3. Payments: PaymentID, OrderID, Amount\n",
      "\n",
      "Logical steps to build the query:\n",
      "\n",
      "1. Start with the Orders table and join it with the OrderDetails table on the OrderID.\n",
      "2. Join this result with the Products table using the ProductID from OrderDetails.\n",
      "3. Join it further with the Payments table on the OrderID.\n",
      "4. Group the final result by the provider (which can be derived from the SupplierID in the Products table).\n",
      "5. Sum up the TotalAmount from Orders and Amount from Payments to get the total revenue.\n",
      "\n",
      "Note: The above steps assume that each product is associated with only one supplier. If a product can be supplied by multiple suppliers, then we need to determine how to assign revenue to individual suppliers.\n"
     ]
    }
   ],
   "source": [
    "print(input_collection[\"<OUTLINE>\"])"
   ]
  },
  {
   "cell_type": "code",
   "execution_count": 177,
   "metadata": {},
   "outputs": [
    {
     "name": "stdout",
     "output_type": "stream",
     "text": [
      " The outline provided is mostly correct, but there seems to be a mix-up between the \"Suppliers\" and \"Providers.\" I'll assume you're looking for the total revenue by supplier. Here's the revised outline:\n",
      "\n",
      "1. Start with the \"Orders\" table and join it with the \"OrderDetails\" table on the \"OrderID\".\n",
      "2. Join this result with the \"Products\" table using the \"ProductID\" from \"OrderDetails\".\n",
      "3. Join it further with the \"Suppliers\" table using the \"SupplierID\" from \"Products\".\n",
      "4. Join it with the \"Payments\" table on the \"OrderID\".\n",
      "5. Group the final result by the supplier (which can be found in the \"Suppliers\" table).\n",
      "6. Sum up the \"TotalAmount\" from \"Orders\" and \"Amount\" from \"Payments\" to get the total revenue.\n",
      "\n",
      "The context you provided contains the correct schema, and the tables and columns necessary for this query are:\n",
      "\n",
      "- Orders: OrderID, TotalAmount, CustomerID\n",
      "- OrderDetails: OrderID, ProductID, Quantity, UnitPrice\n",
      "- Products: ProductID, SupplierID\n",
      "- Suppliers: SupplierID, SupplierName\n",
      "- Payments: PaymentID, OrderID, Amount\n",
      "\n",
      "The revised logical steps to build the query are provided above.\n"
     ]
    }
   ],
   "source": [
    "print(input_collection[\"<REVISED_OUTLINE>\"])"
   ]
  },
  {
   "cell_type": "code",
   "execution_count": 178,
   "metadata": {},
   "outputs": [
    {
     "name": "stdout",
     "output_type": "stream",
     "text": [
      " WITH order\\_product\\_supplier AS (\n",
      "SELECT o.OrderID, o.TotalAmount, p.SupplierID\n",
      "FROM Orders o\n",
      "JOIN OrderDetails od ON o.OrderID = od.OrderID\n",
      "JOIN Products p ON od.ProductID = p.ProductID\n",
      "),\n",
      "payments\\_sum AS (\n",
      "SELECT OrderID, SUM(Amount) AS PaymentSum\n",
      "FROM Payments\n",
      "GROUP BY OrderID\n",
      ")\n",
      "SELECT s.SupplierID, s.SupplierName, SUM(op.TotalAmount + coalesce(ps.PaymentSum, 0)) AS TotalRevenue\n",
      "FROM order\\_product\\_supplier op\n",
      "JOIN Suppliers s ON op.SupplierID = s.SupplierID\n",
      "LEFT JOIN payments\\_sum ps ON op.OrderID = ps.OrderID\n",
      "GROUP BY s.SupplierID, s.SupplierName\n",
      "ORDER BY TotalRevenue DESC;\n"
     ]
    }
   ],
   "source": [
    "print(input_collection[\"<SQL_SNIPPET>\"])"
   ]
  },
  {
   "cell_type": "code",
   "execution_count": 179,
   "metadata": {},
   "outputs": [
    {
     "name": "stdout",
     "output_type": "stream",
     "text": [
      " Your SQL query looks good and should provide the correct results. It first creates a CTE (Common Table Expression) named `order_product_supplier` to get the `OrderID`, `TotalAmount`, and `SupplierID` from the `Orders`, `OrderDetails`, and `Products` tables. Then, it creates another CTE named `payments_sum` to calculate the total payment amount for each order.\n",
      "\n",
      "Finally, it joins these two CTEs with the `Suppliers` table to get the supplier information and calculate the total revenue for each supplier by summing the `TotalAmount` and the `PaymentSum`. The `coalesce` function is used to handle the case where a payment is not made for an order yet.\n",
      "\n",
      "Here's the SQL code snippet for Postgres:\n",
      "```vbnet\n",
      "WITH order_product_supplier AS (\n",
      "SELECT o.OrderID, o.TotalAmount, p.SupplierID\n",
      "FROM Orders o\n",
      "JOIN OrderDetails od ON o.OrderID = od.OrderID\n",
      "JOIN Products p ON od.ProductID = p.ProductID\n",
      "),\n",
      "payments_sum AS (\n",
      "SELECT OrderID, SUM(Amount) AS PaymentSum\n",
      "FROM Payments\n",
      "GROUP BY OrderID\n",
      ")\n",
      "SELECT s.SupplierID, s.SupplierName, SUM(op.TotalAmount + coalesce(ps.PaymentSum, 0)) AS TotalRevenue\n",
      "FROM order_product_supplier op\n",
      "JOIN Suppliers s ON op.SupplierID = s.SupplierID\n",
      "LEFT JOIN payments_sum ps ON op.OrderID = ps.OrderID\n",
      "GROUP BY s.SupplierID, s.SupplierName\n",
      "ORDER BY TotalRevenue DESC;\n",
      "```\n",
      "This query should give you the total revenue made by each provider.\n"
     ]
    }
   ],
   "source": [
    "print(input_collection[\"<VERIFIED_SQL>\"])"
   ]
  },
  {
   "cell_type": "code",
   "execution_count": null,
   "metadata": {},
   "outputs": [],
   "source": []
  }
 ],
 "metadata": {
  "kernelspec": {
   "display_name": ".venv",
   "language": "python",
   "name": "python3"
  },
  "language_info": {
   "codemirror_mode": {
    "name": "ipython",
    "version": 3
   },
   "file_extension": ".py",
   "mimetype": "text/x-python",
   "name": "python",
   "nbconvert_exporter": "python",
   "pygments_lexer": "ipython3",
   "version": "3.9.12"
  }
 },
 "nbformat": 4,
 "nbformat_minor": 2
}
